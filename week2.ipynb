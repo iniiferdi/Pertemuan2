{
 "cells": [
  {
   "cell_type": "code",
   "execution_count": 17,
   "metadata": {},
   "outputs": [
    {
     "name": "stdout",
     "output_type": "stream",
     "text": [
      "Panjang = 20.5\n",
      "Lebar = 25\n",
      "Tinggi = 10\n",
      "Keliling = 91.0\n",
      "Volume = 5125.0\n"
     ]
    }
   ],
   "source": [
    "panjang = 20.5\n",
    "lebar = 25\n",
    "tinggi = 10\n",
    "\n",
    "keliling = 2 * (panjang + lebar)\n",
    "luas = panjang * lebar\n",
    "volum = panjang*lebar*tinggi\n",
    "\n",
    "print(\"Panjang = \" + str(panjang))\n",
    "print(\"Lebar = \" + str(lebar))\n",
    "print(\"Tinggi = \" + str(tinggi))\n",
    "print(\"Keliling = \" + str(keliling))\n",
    "print(\"Volume = \" + str(volum))"
   ]
  },
  {
   "cell_type": "code",
   "execution_count": 9,
   "metadata": {},
   "outputs": [
    {
     "name": "stdout",
     "output_type": "stream",
     "text": [
      "1. Rata-rata nilai Shafira pada kedua mata kuliah =  80.0\n",
      "2. Jumlah nilai Hanif dan Andi untuk semua mata kuliah =  310\n",
      "3. Rata-rata nilai Widya pada masing-masing mata kuliah = 85.0\n",
      "3. Rata-rata nilai Dhanar pada masing-masing mata kuliah = 85.0\n",
      "3. Rata-rata nilai Hikma pada masing-masing mata kuliah = 77.5\n",
      "3. Rata-rata nilai Nedia pada masing-masing mata kuliah = 87.5\n",
      "4. Rata-rata nilai mata kuliah Kalkulus 1 untuk semua mahasiswa = 81.1\n",
      "5. Rata-rata nilai mata kuliah Metode Statistika untuk semua mahasiswa = 81.7\n"
     ]
    }
   ],
   "source": [
    "dataMahasiswa = {\n",
    "    'Shafira' : {\n",
    "         'Kalkulus1' :  85, 'metodeStatistika' : 75\n",
    "    },\n",
    "    'Amanda' : {\n",
    "         'Kalkulus1' :  80, 'metodeStatistika' : 90\n",
    "    },\n",
    "    'Aditya' : {\n",
    "         'Kalkulus1' :  75, 'metodeStatistika' : 80\n",
    "    },\n",
    "    'Nedia' : {\n",
    "         'Kalkulus1' :  95, 'metodeStatistika' : 80\n",
    "    },\n",
    "    'Widya' : {\n",
    "         'Kalkulus1' :  85, 'metodeStatistika' : 85\n",
    "    },\n",
    "    'Hanif' : {\n",
    "         'Kalkulus1' :  75, 'metodeStatistika' : 90\n",
    "    },\n",
    "    'Andi' : {\n",
    "         'Kalkulus1' :  70, 'metodeStatistika' : 75\n",
    "    },\n",
    "    'Dhanar' : {\n",
    "         'Kalkulus1' :  85, 'metodeStatistika' : 85\n",
    "    },\n",
    "    'Hikma' : {\n",
    "         'Kalkulus1' :  80, 'metodeStatistika' : 75\n",
    "    },\n",
    "}\n",
    "\n",
    "def hitung_rata_rata(nilai):\n",
    "    return sum(nilai.values()) / len(nilai)\n",
    "\n",
    "def hitung_rata_rata_matkul(data, matkul):\n",
    "    return sum(data[mahasiswa][matkul] for mahasiswa in data) / len(data)\n",
    "\n",
    "# 1\n",
    "meanSafira = hitung_rata_rata(dataMahasiswa['Shafira'])\n",
    "print(\"1. Rata-rata nilai Shafira pada kedua mata kuliah = \", str(meanSafira))\n",
    "\n",
    "# 2\n",
    "jmlnilaiHanifAndi = sum(dataMahasiswa['Hanif'].values()) + sum(dataMahasiswa['Andi'].values())\n",
    "print(\"2. Jumlah nilai Hanif dan Andi untuk semua mata kuliah = \", jmlnilaiHanifAndi)\n",
    "\n",
    "# 3\n",
    "mahasiswaList = ['Widya', 'Dhanar', 'Hikma' , 'Nedia']\n",
    "for mahasiswa in mahasiswaList:\n",
    "    meanMahasiswa = hitung_rata_rata(dataMahasiswa[mahasiswa])\n",
    "    print(f\"3. Rata-rata nilai {mahasiswa} pada masing-masing mata kuliah = {meanMahasiswa:.1f}\")\n",
    "\n",
    "# 4\n",
    "meanKalkulus = hitung_rata_rata_matkul(dataMahasiswa, 'Kalkulus1')\n",
    "print(f\"4. Rata-rata nilai mata kuliah Kalkulus 1 untuk semua mahasiswa = {meanKalkulus:.1f}\")\n",
    "\n",
    "# 5\n",
    "meanStastistika = hitung_rata_rata_matkul(dataMahasiswa, 'metodeStatistika')\n",
    "print(f\"5. Rata-rata nilai mata kuliah Metode Statistika untuk semua mahasiswa = {meanStastistika:.1f}\")"
   ]
  },
  {
   "cell_type": "code",
   "execution_count": 10,
   "metadata": {},
   "outputs": [
    {
     "name": "stdout",
     "output_type": "stream",
     "text": [
      "1. Gaji pada bulan Agustus jika Dwi tidak masuk kerja selama 3 hari: Rp. 5,520,000\n",
      "2. Jumlah tunjangan yang diterima Dwi pada bulan Agustus: Rp 552,000\n",
      "3. Gaji total yang diterima Dwi pada bulan Agustus jika lembur selama 5 jam: Rp 6,122,000\n"
     ]
    }
   ],
   "source": [
    "gajiPerJam = 30000\n",
    "waktuKerjaHarian = 8\n",
    "jmlharikerjadlmSebulan = 26\n",
    "gajiLembur = 10000\n",
    "\n",
    "def hitungGajiSebulan(tidakHadir):\n",
    "    jamKerjaSebulan = (jmlharikerjadlmSebulan - tidakHadir) * waktuKerjaHarian\n",
    "    return jamKerjaSebulan * gajiPerJam\n",
    "\n",
    "def hitungTunjangan(gajiSebulan, kerjaTahun):\n",
    "    if kerjaTahun > 5:\n",
    "        return 0.1 * gajiSebulan\n",
    "    else:\n",
    "        return 0\n",
    "\n",
    "def hitungGajiTotal(gajiSebulan, tunjangan, durasiLembur):\n",
    "    gajiPlusLembur = gajiLembur * durasiLembur\n",
    "    return gajiSebulan + tunjangan + gajiPlusLembur\n",
    "\n",
    "tidakHadir = 3\n",
    "kerjaTahun = 10\n",
    "durasiLembur = 5\n",
    "\n",
    "gajiSebulan = hitungGajiSebulan(tidakHadir)\n",
    "tunjangan = hitungTunjangan(gajiSebulan, kerjaTahun)\n",
    "gajiTotal = hitungGajiTotal(gajiSebulan, tunjangan, durasiLembur)\n",
    "\n",
    "print(f\"1. Gaji pada bulan Agustus jika Dwi tidak masuk kerja selama 3 hari: Rp. {gajiSebulan:,.0f}\")\n",
    "print(f\"2. Jumlah tunjangan yang diterima Dwi pada bulan Agustus: Rp {tunjangan:,.0f}\")\n",
    "print(f\"3. Gaji total yang diterima Dwi pada bulan Agustus jika lembur selama 5 jam: Rp {gajiTotal:,.0f}\")"
   ]
  }
 ],
 "metadata": {
  "kernelspec": {
   "display_name": "Python 3",
   "language": "python",
   "name": "python3"
  },
  "language_info": {
   "codemirror_mode": {
    "name": "ipython",
    "version": 3
   },
   "file_extension": ".py",
   "mimetype": "text/x-python",
   "name": "python",
   "nbconvert_exporter": "python",
   "pygments_lexer": "ipython3",
   "version": "3.12.5"
  }
 },
 "nbformat": 4,
 "nbformat_minor": 2
}
