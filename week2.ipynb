{
 "cells": [
  {
   "cell_type": "code",
   "execution_count": 1,
   "metadata": {},
   "outputs": [
    {
     "name": "stdout",
     "output_type": "stream",
     "text": [
      "Panjang = 20.5\n",
      "Lebar = 25\n",
      "Tinggi = 10\n",
      "Keliling = 91.0\n",
      "Volume = 5125.0\n"
     ]
    }
   ],
   "source": [
    "panjang = 20.5\n",
    "lebar = 25\n",
    "tinggi = 10\n",
    "\n",
    "keliling = 2 * (panjang + lebar)\n",
    "luas = panjang * lebar\n",
    "volume = panjang * lebar * tinggi\n",
    "\n",
    "print(\"Panjang = \" + str(panjang))\n",
    "print(\"Lebar = \" + str(lebar))\n",
    "print(\"Tinggi = \" + str(tinggi))\n",
    "print(\"Keliling = \" + str(keliling))\n",
    "print(\"Volume = \" + str(volume))"
   ]
  },
  {
   "cell_type": "code",
   "execution_count": 38,
   "metadata": {},
   "outputs": [
    {
     "name": "stdout",
     "output_type": "stream",
     "text": [
      "1. Rata-rata nilai Shafira pada kedua mata kuliah =  80.0\n",
      "2. Jumlah nilai Hanif dan Andi untuk semua mata kuliah =  310\n",
      "3. Rata-rata nilai Widya, Dhanar, Hikma dan Nedia pada masing-masing mata kuliah = \n",
      "   Widya  : 85.0 \n",
      "   Dhanar  : 85.0 \n",
      "   Hikma  : 77.5 \n",
      "   Nedia  : 87.5 \n",
      "4. Rata-rata nilai mata kuliah Kalkulus 1 untuk semua mahasiswa =  81.11111111111111\n",
      "5. Rata-rata nilai mata kuliah Metode Statistika untuk semua mahasiswa =  81.66666666666667\n"
     ]
    }
   ],
   "source": [
    "dataMahasiswa = {\n",
    "    'Shafira' : {\n",
    "         'Kalkulus1' :  85, 'metodeStatistika' : 75\n",
    "    },\n",
    "    'Amanda' : {\n",
    "         'Kalkulus1' :  80, 'metodeStatistika' : 90\n",
    "    },\n",
    "    'Aditya' : {\n",
    "         'Kalkulus1' :  75, 'metodeStatistika' : 80\n",
    "    },\n",
    "    'Nedia' : {\n",
    "         'Kalkulus1' :  95, 'metodeStatistika' : 80\n",
    "    },\n",
    "    'Widya' : {\n",
    "         'Kalkulus1' :  85, 'metodeStatistika' : 85\n",
    "    },\n",
    "    'Hanif' : {\n",
    "         'Kalkulus1' :  75, 'metodeStatistika' : 90\n",
    "    },\n",
    "    'Andi' : {\n",
    "         'Kalkulus1' :  70, 'metodeStatistika' : 75\n",
    "    },\n",
    "    'Dhanar' : {\n",
    "         'Kalkulus1' :  85, 'metodeStatistika' : 85\n",
    "    },\n",
    "    'Hikma' : {\n",
    "         'Kalkulus1' :  80, 'metodeStatistika' : 75\n",
    "    },\n",
    "}\n",
    "\n",
    "# 1\n",
    "\n",
    "meanSafira = sum(dataMahasiswa['Shafira'].values()) / len(dataMahasiswa['Shafira'].values())\n",
    "\n",
    "print(\"1. Rata-rata nilai Shafira pada kedua mata kuliah = \",str(meanSafira))\n",
    "\n",
    "# 2\n",
    "\n",
    "jmlnilaiHanifAndi = sum(dataMahasiswa['Hanif'].values()) + sum(dataMahasiswa['Andi'].values())\n",
    "\n",
    "print(\"2. Jumlah nilai Hanif dan Andi untuk semua mata kuliah = \", jmlnilaiHanifAndi)\n",
    "\n",
    "# 3\n",
    "\n",
    "mahasiswaList = ['Widya', 'Dhanar', 'Hikma' , 'Nedia']\n",
    "\n",
    "meanMahasiswa = {}\n",
    "\n",
    "for mahasiswa in mahasiswaList :\n",
    "    meanMahasiswa[mahasiswa] = sum(dataMahasiswa[mahasiswa].values()) / len(dataMahasiswa[mahasiswa])\n",
    "    \n",
    "print(\"3. Rata-rata nilai Widya, Dhanar, Hikma dan Nedia pada masing-masing mata kuliah = \")\n",
    "    \n",
    "for mahasiswa, mean in meanMahasiswa.items():\n",
    "     print(f\"   {mahasiswa}  : {mean} \")\n",
    "\n",
    "# 4\n",
    "\n",
    "meanKalkulus = sum(dataMahasiswa[mahasiswa]['Kalkulus1'] for mahasiswa in dataMahasiswa ) / len(dataMahasiswa)    \n",
    "print(\"4. Rata-rata nilai mata kuliah Kalkulus 1 untuk semua mahasiswa = \" , meanKalkulus )\n",
    "\n",
    "# 5\n",
    "\n",
    "meanStastistika = sum(dataMahasiswa[mahasiswa]['metodeStatistika'] for mahasiswa in dataMahasiswa ) / len(dataMahasiswa)    \n",
    "print(\"5. Rata-rata nilai mata kuliah Metode Statistika untuk semua mahasiswa = \" , meanStastistika )\n",
    "    \n",
    "\n",
    "\n",
    "\n",
    "\n"
   ]
  },
  {
   "cell_type": "code",
   "execution_count": 45,
   "metadata": {},
   "outputs": [
    {
     "name": "stdout",
     "output_type": "stream",
     "text": [
      "Gaji pada bulan Agustus jika Dwi tidak masuk kerja selama 3 hari: Rp. 5430000\n"
     ]
    }
   ],
   "source": [
    "gajiPerJam = 30000\n",
    "waktuKerjaHarian = 8\n",
    "jmlharikerjadlmSebulan = 26\n",
    "gajiLembur = 10000\n",
    "\n",
    "# mencari 1\n",
    "\n",
    "tidakHadir = 3\n",
    "\n",
    "jamKerjaSebulan = (jmlharikerjadlmSebulan - tidakHadir) * waktuKerjaHarian\n",
    "totalGajiSebulan = (jamKerjaSebulan - tidakHadir) * gajiPerJam\n",
    "\n",
    "\n",
    "print(f\"Gaji pada bulan Agustus jika Dwi tidak masuk kerja selama 3 hari: Rp. {totalGajiSebulan}\")"
   ]
  }
 ],
 "metadata": {
  "kernelspec": {
   "display_name": "Python 3",
   "language": "python",
   "name": "python3"
  },
  "language_info": {
   "codemirror_mode": {
    "name": "ipython",
    "version": 3
   },
   "file_extension": ".py",
   "mimetype": "text/x-python",
   "name": "python",
   "nbconvert_exporter": "python",
   "pygments_lexer": "ipython3",
   "version": "3.12.5"
  }
 },
 "nbformat": 4,
 "nbformat_minor": 2
}
