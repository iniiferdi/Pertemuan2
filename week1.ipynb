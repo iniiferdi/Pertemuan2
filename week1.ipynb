{
 "cells": [
  {
   "cell_type": "code",
   "execution_count": 1,
   "metadata": {},
   "outputs": [
    {
     "name": "stdout",
     "output_type": "stream",
     "text": [
      "Nama           :   Ferdiyanto\n",
      "NPM            :   2410506007\n",
      "Alamat         :   Desa Gunungwangi, Kec. Kaligesing, Kab. Purworejo, Jawa Tengah\n",
      "Tinggi Badan   :   164\n",
      "Berat Badan    :   53\n"
     ]
    }
   ],
   "source": [
    "print(\"Nama           :   Ferdiyanto\")\n",
    "print(\"NPM            :   2410506007\")\n",
    "print(\"Alamat         :   Desa Gunungwangi, Kec. Kaligesing, Kab. Purworejo, Jawa Tengah\")\n",
    "print(\"Tinggi Badan   :   164\")\n",
    "print(\"Berat Badan    :   53\")"
   ]
  },
  {
   "cell_type": "code",
   "execution_count": 2,
   "metadata": {},
   "outputs": [
    {
     "name": "stdout",
     "output_type": "stream",
     "text": [
      "\u001b[1mUNIVERSITAS TIDAR \u001b[0m\n",
      "Universitas Tidar merupakan Perguruan Tinggi Pemerintah atau Perguruan Tinggi Negeri yang telah ditetapkan berdasarkan Peraturan Presiden Republik Indonesia Nomor 23 Tahun 2014 pada tanggal 1 April 2014.\n",
      "\n",
      "\u001b[1mJURUSAN TEKNIK ELEKTRO, MEKATRONIKA DAN INFORMASI\u001b[0m\n",
      "Jurusan Teknik Elektro terdiri atas tiga program studi, antara lain:\n",
      "    1. S1 Teknik Elektro \u001b[3m(Bachelor of Electrical Engineering)\u001b[0m\n",
      "    2. S1 Teknologi Informasi \u001b[3m(Bachelor of Information Technology)\u001b[0m\n",
      "    3. S1 Teknik Mekatronika \u001b[3m(Bachelor of Mechatronics Engineering)\u001b[0m\n"
     ]
    }
   ],
   "source": [
    "print(\"\\033[1mUNIVERSITAS TIDAR \\033[0m\")\n",
    "print(\"Universitas Tidar merupakan Perguruan Tinggi Pemerintah atau Perguruan Tinggi Negeri yang telah ditetapkan berdasarkan Peraturan Presiden Republik Indonesia Nomor 23 Tahun 2014 pada tanggal 1 April 2014.\")\n",
    "print(\"\\n\\033[1mJURUSAN TEKNIK ELEKTRO, MEKATRONIKA DAN INFORMASI\\033[0m\")\n",
    "print(\"Jurusan Teknik Elektro terdiri atas tiga program studi, antara lain:\")\n",
    "print(\"    1. S1 Teknik Elektro \\x1B[3m(Bachelor of Electrical Engineering)\\x1B[0m\")\n",
    "print(\"    2. S1 Teknologi Informasi \\x1B[3m(Bachelor of Information Technology)\\x1B[0m\")\n",
    "print(\"    3. S1 Teknik Mekatronika \\x1B[3m(Bachelor of Mechatronics Engineering)\\x1B[0m\")"
   ]
  }
 ],
 "metadata": {
  "kernelspec": {
   "display_name": "Python 3",
   "language": "python",
   "name": "python3"
  },
  "language_info": {
   "codemirror_mode": {
    "name": "ipython",
    "version": 3
   },
   "file_extension": ".py",
   "mimetype": "text/x-python",
   "name": "python",
   "nbconvert_exporter": "python",
   "pygments_lexer": "ipython3",
   "version": "3.12.5"
  }
 },
 "nbformat": 4,
 "nbformat_minor": 2
}
